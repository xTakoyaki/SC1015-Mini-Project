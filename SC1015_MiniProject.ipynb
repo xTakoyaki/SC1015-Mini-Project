{
  "cells": [
    {
      "cell_type": "code",
      "execution_count": 82,
      "metadata": {
        "id": "5fAaCxJ8yyAZ",
        "colab": {
          "base_uri": "https://localhost:8080/"
        },
        "outputId": "9ebccdc4-61da-4faf-e536-f9e31b826d9b"
      },
      "outputs": [
        {
          "output_type": "stream",
          "name": "stdout",
          "text": [
            "Drive already mounted at /content/drive; to attempt to forcibly remount, call drive.mount(\"/content/drive\", force_remount=True).\n"
          ]
        }
      ],
      "source": [
        "from google.colab import drive\n",
        "drive.mount('/content/drive')"
      ]
    },
    {
      "cell_type": "markdown",
      "metadata": {
        "id": "k5hAppg_04yD"
      },
      "source": [
        "## **Problem Statement: How does GDP affect the standard of living?**\n"
      ]
    },
    {
      "cell_type": "markdown",
      "metadata": {
        "id": "6NqfFo2a1Jg6"
      },
      "source": [
        "These are the libraries required to solve our problem statement\n",
        "> pandas: A powerful library for data manipulation and analysis. <br>\n",
        "> numpy: A library for working with arrays, linear algebra, and other mathematical operations. <br>\n",
        "> matplotlib: A library for creating static, animated, and interactive visualizations. <br>\n",
        "> seaborn: A statistical data visualization library based on Matplotlib. <br>\n",
        "> scikit-learn: A library for machine learning in Python, including various models, preprocessing tools, and evaluation metrics."
      ]
    },
    {
      "cell_type": "code",
      "execution_count": 83,
      "metadata": {
        "id": "Mo7xbogs1J6e"
      },
      "outputs": [],
      "source": [
        "import pandas as pd\n",
        "import numpy as np\n",
        "import matplotlib.pyplot as plt\n",
        "import seaborn as sns\n",
        "from collections import Counter\n",
        "from sklearn.model_selection import train_test_split, cross_val_score\n",
        "from sklearn.linear_model import LinearRegression\n",
        "from sklearn.metrics import mean_squared_error, r2_score"
      ]
    },
    {
      "cell_type": "markdown",
      "metadata": {
        "id": "eQ1BaCyQ1M4i"
      },
      "source": [
        "## Cleaning the Happiness Index Datasets"
      ]
    },
    {
      "cell_type": "code",
      "execution_count": 84,
      "metadata": {
        "colab": {
          "base_uri": "https://localhost:8080/"
        },
        "id": "dBqkLcMQ1K9g",
        "outputId": "23ea331e-474c-4b1f-f524-92ff79c7c803"
      },
      "outputs": [
        {
          "output_type": "stream",
          "name": "stdout",
          "text": [
            "Index(['Country', 'Region', 'Happiness Rank', 'Happiness Score',\n",
            "       'Standard Error', 'Economy (GDP per Capita)', 'Family',\n",
            "       'Health (Life Expectancy)', 'Freedom', 'Trust (Government Corruption)',\n",
            "       'Generosity', 'Dystopia Residual'],\n",
            "      dtype='object')\n",
            "Index(['Country', 'Region', 'Happiness Rank', 'Happiness Score',\n",
            "       'Lower Confidence Interval', 'Upper Confidence Interval',\n",
            "       'Economy (GDP per Capita)', 'Family', 'Health (Life Expectancy)',\n",
            "       'Freedom', 'Trust (Government Corruption)', 'Generosity',\n",
            "       'Dystopia Residual'],\n",
            "      dtype='object')\n",
            "Index(['Country', 'Happiness.Rank', 'Happiness.Score', 'Whisker.high',\n",
            "       'Whisker.low', 'Economy..GDP.per.Capita.', 'Family',\n",
            "       'Health..Life.Expectancy.', 'Freedom', 'Generosity',\n",
            "       'Trust..Government.Corruption.', 'Dystopia.Residual'],\n",
            "      dtype='object')\n",
            "Index(['Overall rank', 'Country or region', 'Score', 'GDP per capita',\n",
            "       'Social support', 'Healthy life expectancy',\n",
            "       'Freedom to make life choices', 'Generosity',\n",
            "       'Perceptions of corruption'],\n",
            "      dtype='object')\n",
            "Index(['Overall rank', 'Country or region', 'Score', 'GDP per capita',\n",
            "       'Social support', 'Healthy life expectancy',\n",
            "       'Freedom to make life choices', 'Generosity',\n",
            "       'Perceptions of corruption'],\n",
            "      dtype='object')\n"
          ]
        }
      ],
      "source": [
        "# Read the CSV files into DataFrames\n",
        "happiness_df2015 = pd.read_csv(\"/content/drive/MyDrive/SC1015 Mini Project/datasets/2015_happinessindex.csv\")\n",
        "happiness_df2016 = pd.read_csv(\"/content/drive/MyDrive/SC1015 Mini Project/datasets/2016_happinessindex.csv\")\n",
        "happiness_df2017 = pd.read_csv(\"/content/drive/MyDrive/SC1015 Mini Project/datasets/2017_happinessindex.csv\")\n",
        "happiness_df2018 = pd.read_csv(\"/content/drive/MyDrive/SC1015 Mini Project/datasets/2018_happinessindex.csv\")\n",
        "happiness_df2019 = pd.read_csv(\"/content/drive/MyDrive/SC1015 Mini Project/datasets/2019_happinessindex.csv\")\n",
        "\n",
        "print(happiness_df2015.columns)\n",
        "print(happiness_df2016.columns)\n",
        "print(happiness_df2017.columns)\n",
        "print(happiness_df2018.columns)\n",
        "print(happiness_df2019.columns)\n",
        "\n"
      ]
    },
    {
      "cell_type": "markdown",
      "metadata": {
        "id": "6429VFZm6CZX"
      },
      "source": [
        "__From the 5 datasets above, we have observed that, although the context is the same, some of the columns have different names. So, in order to fix that we will rename them using the function .rename().__"
      ]
    },
    {
      "cell_type": "code",
      "source": [
        "#renaming 2017 dataset\n",
        "happiness_df2017.rename(columns={\n",
        "    'Happiness.Rank': 'Happiness Rank',\n",
        "    'Happiness.Score': 'Happiness Score',\n",
        "    'Economy..GDP.per.Capita': 'Economy (GDP per Capita)',\n",
        "    'Health..Life.Expectancy.': 'Health (Life Expectancy)',\n",
        "    'Happiness.Score': 'Happiness Score',\n",
        "    'Trust..Government.Corruption.': 'Trust (Government Corruption)',\n",
        "    'Dystopia.Residual': 'Dystopia Residual'\n",
        "}, inplace=True)\n",
        "\n",
        "#renaming 2018 dataset\n",
        "happiness_df2018.rename(columns={\n",
        "    'Country or region': 'Country',\n",
        "    'Score': 'Happiness Score',\n",
        "    'GDP per capita': 'Economy (GDP per Capita)',\n",
        "    'Social support': 'Family',\n",
        "    'Healthy life expectancy': 'Health (Life Expectancy)',\n",
        "    'Freedom to make life choices': 'Freedom',\n",
        "    'Perceptions of corruption': 'Trust (Government Corruption)'\n",
        "}, inplace=True)\n",
        "\n",
        "#renaming 2019 dataset\n",
        "happiness_df2019.rename(columns={\n",
        "    'Country or region': 'Country',\n",
        "    'Score': 'Happiness Score',\n",
        "    'GDP per capita': 'Economy (GDP per Capita)',\n",
        "    'Social support': 'Family',\n",
        "    'Healthy life expectancy': 'Health (Life Expectancy)',\n",
        "    'Freedom to make life choices': 'Freedom',\n",
        "    'Perceptions of corruption': 'Trust (Government Corruption)'\n",
        "}, inplace=True)"
      ],
      "metadata": {
        "id": "hoWcK-ws8ajw"
      },
      "execution_count": 85,
      "outputs": []
    },
    {
      "cell_type": "markdown",
      "source": [
        "## Picking out the data we want\n"
      ],
      "metadata": {
        "id": "Z6FgUdgO8eb3"
      }
    },
    {
      "cell_type": "markdown",
      "source": [
        "__We decided that our group will be using the data that spans from 2015 to 2019, hence we cleaned and filtered out the Happiness Index, GDP and HDI datasets.__"
      ],
      "metadata": {
        "id": "6rnB35_e8hcA"
      }
    },
    {
      "cell_type": "code",
      "source": [
        "# Find the intersection of countries in all five CSV files\n",
        "common_countries = set(happiness_df2015['Country']).intersection(\n",
        "    happiness_df2016['Country'], happiness_df2017['Country'], happiness_df2018['Country'], happiness_df2019['Country']\n",
        ")\n",
        "\n",
        "# Filter each file to keep only common countries\n",
        "filtered_2015 = happiness_df2015[happiness_df2015['Country'].isin(common_countries)]\n",
        "filtered_2016 = happiness_df2016[happiness_df2016['Country'].isin(common_countries)]\n",
        "filtered_2017 = happiness_df2017[happiness_df2017['Country'].isin(common_countries)]\n",
        "filtered_2018 = happiness_df2018[happiness_df2018['Country'].isin(common_countries)]\n",
        "filtered_2019 = happiness_df2019[happiness_df2019['Country'].isin(common_countries)]\n",
        "\n",
        "# Sort the columns by countries\n",
        "sorted_2015 = filtered_2015.sort_values(by='Country', ascending=True)\n",
        "sorted_2016 = filtered_2016.sort_values(by='Country', ascending=True)\n",
        "sorted_2017 = filtered_2017.sort_values(by='Country', ascending=True)\n",
        "sorted_2018 = filtered_2018.sort_values(by='Country', ascending=True)\n",
        "sorted_2019 = filtered_2019.sort_values(by='Country', ascending=True)\n"
      ],
      "metadata": {
        "id": "mCWhpctJ8dYG"
      },
      "execution_count": 86,
      "outputs": []
    },
    {
      "cell_type": "markdown",
      "metadata": {
        "id": "e7OdrgaH5V9v"
      },
      "source": [
        "##Cleaning the GDP (Gross domestic product) datasets"
      ]
    },
    {
      "cell_type": "code",
      "execution_count": 87,
      "metadata": {
        "id": "PNoIj5rl1P_8",
        "colab": {
          "base_uri": "https://localhost:8080/"
        },
        "outputId": "35f46453-6c1f-438c-9afc-bf379297daab"
      },
      "outputs": [
        {
          "output_type": "stream",
          "name": "stdout",
          "text": [
            "Data for year 2015:\n",
            "                                      GDP  GDP Growth  GDP Per Capita  \\\n",
            "Country Name                                                            \n",
            "Afghanistan                  1.913421e+10    1.451315      556.007221   \n",
            "Africa Eastern and Southern  9.199300e+11    2.925591     1549.037940   \n",
            "Africa Western and Central   7.607297e+11    2.745937     1894.310195   \n",
            "Albania                      1.138685e+10    2.218726     3952.802538   \n",
            "Algeria                      1.659793e+11    3.700000     4177.889542   \n",
            "\n",
            "                             GDP Per Capita Growth       GDP PPP  \\\n",
            "Country Name                                                       \n",
            "Afghanistan                              -1.622857  7.183170e+10   \n",
            "Africa Eastern and Southern               0.187860  2.098286e+12   \n",
            "Africa Western and Central                0.007402  1.662297e+12   \n",
            "Albania                                   2.516827  3.358584e+10   \n",
            "Algeria                                   1.600494  4.773576e+11   \n",
            "\n",
            "                             GDP PPP Per Capita  \n",
            "Country Name                                     \n",
            "Afghanistan                         2087.305323  \n",
            "Africa Eastern and Southern         3533.230819  \n",
            "Africa Western and Central          4139.323364  \n",
            "Albania                            11658.905517  \n",
            "Algeria                            12015.640528  \n",
            "\n",
            "\n",
            "Data for year 2016:\n",
            "                                      GDP  GDP Growth  GDP Per Capita  \\\n",
            "Country Name                                                            \n",
            "Afghanistan                  1.811656e+10    2.260314      512.012778   \n",
            "Africa Eastern and Southern  8.733549e+11    2.019391     1431.778723   \n",
            "Africa Western and Central   6.905430e+11    0.127595     1673.835527   \n",
            "Albania                      1.186120e+10    3.314981     4124.055390   \n",
            "Algeria                      1.600342e+11    3.200000     3946.452447   \n",
            "\n",
            "                             GDP Per Capita Growth       GDP PPP  \\\n",
            "Country Name                                                       \n",
            "Afghanistan                              -0.541416  7.009796e+10   \n",
            "Africa Eastern and Southern              -0.674533  2.212573e+12   \n",
            "Africa Western and Central               -2.533562  1.678674e+12   \n",
            "Albania                                   3.480293  3.473997e+10   \n",
            "Algeria                                   1.104570  4.713833e+11   \n",
            "\n",
            "                             GDP PPP Per Capita  \n",
            "Country Name                                     \n",
            "Afghanistan                         1981.118069  \n",
            "Africa Eastern and Southern         3627.294348  \n",
            "Africa Western and Central          4069.005667  \n",
            "Albania                            12078.843136  \n",
            "Algeria                            11624.340775  \n",
            "\n",
            "\n",
            "Data for year 2017:\n",
            "                                      GDP  GDP Growth  GDP Per Capita  \\\n",
            "Country Name                                                            \n",
            "Afghanistan                  1.875347e+10    2.647003      516.679862   \n",
            "Africa Eastern and Southern  9.853557e+11    2.542298     1573.063386   \n",
            "Africa Western and Central   6.837416e+11    2.318042     1613.473553   \n",
            "Albania                      1.301969e+10    3.802227     4531.019374   \n",
            "Algeria                      1.700970e+11    1.300000     4109.698217   \n",
            "\n",
            "                             GDP Per Capita Growth       GDP PPP  \\\n",
            "Country Name                                                       \n",
            "Afghanistan                               0.064764  7.471192e+10   \n",
            "Africa Eastern and Southern              -0.144710  2.319151e+12   \n",
            "Africa Western and Central               -0.390665  1.744087e+12   \n",
            "Albania                                   3.897741  3.669682e+10   \n",
            "Algeria                                  -0.750457  4.858013e+11   \n",
            "\n",
            "                             GDP PPP Per Capita  \n",
            "Country Name                                     \n",
            "Afghanistan                         2058.400221  \n",
            "Africa Eastern and Southern         3702.390685  \n",
            "Africa Western and Central          4115.645480  \n",
            "Albania                            12770.964291  \n",
            "Algeria                            11737.401235  \n",
            "\n",
            "\n",
            "Data for year 2018:\n",
            "                                      GDP  GDP Growth  GDP Per Capita  \\\n",
            "Country Name                                                            \n",
            "Afghanistan                  1.805323e+10    1.189228      485.668419   \n",
            "Africa Eastern and Southern  1.012853e+12    2.475272     1574.978648   \n",
            "Africa Western and Central   7.416916e+11    2.952230     1704.139603   \n",
            "Albania                      1.515643e+10    4.019360     5287.663694   \n",
            "Algeria                      1.749109e+11    1.100000     4142.018558   \n",
            "\n",
            "                             GDP Per Capita Growth       GDP PPP  \\\n",
            "Country Name                                                       \n",
            "Afghanistan                              -1.194900  7.741557e+10   \n",
            "Africa Eastern and Southern              -0.185406  2.438518e+12   \n",
            "Africa Western and Central                0.241531  1.841811e+12   \n",
            "Albania                                   4.276326  3.864738e+10   \n",
            "Algeria                                  -0.909246  5.029375e+11   \n",
            "\n",
            "                             GDP PPP Per Capita  \n",
            "Country Name                                     \n",
            "Afghanistan                         2082.635648  \n",
            "Africa Eastern and Southern         3791.875407  \n",
            "Africa Western and Central          4231.815774  \n",
            "Albania                            13483.011614  \n",
            "Algeria                            11909.929825  \n",
            "\n",
            "\n",
            "Data for year 2019:\n",
            "                                      GDP  GDP Growth  GDP Per Capita  \\\n",
            "Country Name                                                            \n",
            "Afghanistan                  1.879945e+10    3.911603      494.179350   \n",
            "Africa Eastern and Southern  1.009910e+12    2.077898     1530.059177   \n",
            "Africa Western and Central   7.945725e+11    3.190336     1777.918672   \n",
            "Albania                      1.540024e+10    2.113420     5395.659532   \n",
            "Algeria                      1.717674e+11    1.000000     3989.668276   \n",
            "\n",
            "                             GDP Per Capita Growth       GDP PPP  \\\n",
            "Country Name                                                       \n",
            "Afghanistan                               1.535637  8.187980e+10   \n",
            "Africa Eastern and Southern              -0.544414  2.536280e+12   \n",
            "Africa Western and Central                0.492953  1.937451e+12   \n",
            "Albania                                   2.549359  3.999571e+10   \n",
            "Algeria                                  -0.934556  5.170348e+11   \n",
            "\n",
            "                             GDP PPP Per Capita  \n",
            "Country Name                                     \n",
            "Afghanistan                         2152.366489  \n",
            "Africa Eastern and Southern         3842.578511  \n",
            "Africa Western and Central          4335.199547  \n",
            "Albania                            14012.976435  \n",
            "Algeria                            12009.248208  \n",
            "\n",
            "\n"
          ]
        }
      ],
      "source": [
        "# Load the data into Pandas dataframes\n",
        "\n",
        "gdp = pd.read_csv('/content/drive/MyDrive/SC1015 Mini Project/datasets/gdp.csv', index_col=0)\n",
        "gdp_growth = pd.read_csv('/content/drive/MyDrive/SC1015 Mini Project/datasets/gdp_growth.csv', index_col=0)\n",
        "gdp_per_capita = pd.read_csv('/content/drive/MyDrive/SC1015 Mini Project/datasets/gdp_per_capita.csv', index_col=0)\n",
        "gdp_per_capita_growth = pd.read_csv('/content/drive/MyDrive/SC1015 Mini Project/datasets/gdp_per_capita_growth.csv', index_col=0)\n",
        "gdp_ppp = pd.read_csv('/content/drive/MyDrive/SC1015 Mini Project/datasets/gdp_ppp.csv', index_col=0)\n",
        "gdp_ppp_per_capita = pd.read_csv('/content/drive/MyDrive/SC1015 Mini Project/datasets/gdp_ppp_per_capita.csv', index_col=0)\n",
        "\n",
        "## Drop Column \"Code\" and Extract Only 2015-2019 Data\n",
        "\n",
        "gdp = gdp.drop(axis = 1, labels = ['Code'])\n",
        "gdp_growth = gdp_growth.drop(axis = 1, labels = ['Code'])\n",
        "gdp_per_capita = gdp_per_capita.drop(axis = 1, labels = ['Code'])\n",
        "gdp_per_capita_growth = gdp_per_capita_growth.drop(axis = 1, labels = ['Code'])\n",
        "gdp_ppp = gdp_ppp.drop(axis = 1, labels = ['Code'])\n",
        "gdp_ppp_per_capita = gdp_ppp_per_capita.drop(axis = 1, labels = ['Code'])\n",
        "\n",
        "# Extract the data for the Respective Years (2015)\n",
        "gdp_2015 = gdp['2015'].rename('GDP')\n",
        "gdp_growth_2015 = gdp_growth['2015'].rename('GDP Growth')\n",
        "gdp_per_capita_2015 = gdp_per_capita['2015'].rename('GDP Per Capita')\n",
        "gdp_per_capita_growth_2015 = gdp_per_capita_growth['2015'].rename('GDP Per Capita Growth')\n",
        "gdp_ppp_2015 = gdp_ppp['2015'].rename('GDP PPP')\n",
        "gdp_ppp_per_capita_2015 = gdp_ppp_per_capita['2015'].rename('GDP PPP Per Capita')\n",
        "\n",
        "# Concat the extracted data into one Dataframe\n",
        "data_2015 = pd.concat([gdp_2015, gdp_growth_2015, gdp_per_capita_2015, gdp_per_capita_growth_2015,gdp_ppp_2015, gdp_ppp_per_capita_2015], axis=1)\n",
        "\n",
        "# Extract the data for the Respective Years (2016)\n",
        "gdp_2016 = gdp['2016'].rename('GDP')\n",
        "gdp_growth_2016 = gdp_growth['2016'].rename('GDP Growth')\n",
        "gdp_per_capita_2016 = gdp_per_capita['2016'].rename('GDP Per Capita')\n",
        "gdp_per_capita_growth_2016 = gdp_per_capita_growth['2016'].rename('GDP Per Capita Growth')\n",
        "gdp_ppp_2016 = gdp_ppp['2016'].rename('GDP PPP')\n",
        "gdp_ppp_per_capita_2016 = gdp_ppp_per_capita['2016'].rename('GDP PPP Per Capita')\n",
        "\n",
        "# Concat the extracted data into one Dataframe \n",
        "data_2016 = pd.concat([gdp_2016, gdp_growth_2016, gdp_per_capita_2016, gdp_per_capita_growth_2016,gdp_ppp_2016, gdp_ppp_per_capita_2016], axis=1)\n",
        "\n",
        "# Extract the data for the Respective Years (2017)\n",
        "gdp_2017 = gdp['2017'].rename('GDP')\n",
        "gdp_growth_2017 = gdp_growth['2017'].rename('GDP Growth')\n",
        "gdp_per_capita_2017 = gdp_per_capita['2017'].rename('GDP Per Capita')\n",
        "gdp_per_capita_growth_2017 = gdp_per_capita_growth['2017'].rename('GDP Per Capita Growth')\n",
        "gdp_ppp_2017 = gdp_ppp['2017'].rename('GDP PPP')\n",
        "gdp_ppp_per_capita_2017 = gdp_ppp_per_capita['2017'].rename('GDP PPP Per Capita')\n",
        "\n",
        "# Concat the extracted data into one Dataframe\n",
        "data_2017 = pd.concat([gdp_2017, gdp_growth_2017, gdp_per_capita_2017, gdp_per_capita_growth_2017,gdp_ppp_2017, gdp_ppp_per_capita_2017], axis=1)\n",
        "\n",
        "# Extract the data for the Respective Years  (2018)\n",
        "gdp_2018 = gdp['2018'].rename('GDP')\n",
        "gdp_growth_2018 = gdp_growth['2018'].rename('GDP Growth')\n",
        "gdp_per_capita_2018 = gdp_per_capita['2018'].rename('GDP Per Capita')\n",
        "gdp_per_capita_growth_2018 = gdp_per_capita_growth['2018'].rename('GDP Per Capita Growth')\n",
        "gdp_ppp_2018 = gdp_ppp['2018'].rename('GDP PPP')\n",
        "gdp_ppp_per_capita_2018 = gdp_ppp_per_capita['2018'].rename('GDP PPP Per Capita')\n",
        "\n",
        "# Concat the extracted data into one Dataframe\n",
        "data_2018 = pd.concat([gdp_2018, gdp_growth_2018, gdp_per_capita_2018, gdp_per_capita_growth_2018,gdp_ppp_2018, gdp_ppp_per_capita_2018], axis=1)\n",
        "\n",
        "# Extract the data for the Respective Years (2019)\n",
        "gdp_2019 = gdp['2019'].rename('GDP')\n",
        "gdp_growth_2019 = gdp_growth['2019'].rename('GDP Growth')\n",
        "gdp_per_capita_2019 = gdp_per_capita['2019'].rename('GDP Per Capita')\n",
        "gdp_per_capita_growth_2019 = gdp_per_capita_growth['2019'].rename('GDP Per Capita Growth')\n",
        "gdp_ppp_2019 = gdp_ppp['2019'].rename('GDP PPP')\n",
        "gdp_ppp_per_capita_2019 = gdp_ppp_per_capita['2019'].rename('GDP PPP Per Capita')\n",
        "\n",
        "# Concat the extracted data into one Dataframe\n",
        "data_2019 = pd.concat([gdp_2019, gdp_growth_2019, gdp_per_capita_2019, gdp_per_capita_growth_2019,gdp_ppp_2019, gdp_ppp_per_capita_2019], axis=1)\n",
        "\n",
        "data_2015 = data_2015.sort_values(by='Country Name', ascending=True)\n",
        "data_2016 = data_2016.sort_values(by='Country Name', ascending=True)\n",
        "data_2017 = data_2017.sort_values(by='Country Name', ascending=True)\n",
        "data_2018 = data_2018.sort_values(by='Country Name', ascending=True)\n",
        "data_2019 = data_2019.sort_values(by='Country Name', ascending=True)\n",
        "\n",
        "# For loop to print out data from 2015-2019\n",
        "for year in range(2015, 2020):\n",
        "\n",
        "    print(f'Data for year {year}:')\n",
        "    print(locals()[f'data_{year}'].head())\n",
        "    print('\\n')\n"
      ]
    },
    {
      "cell_type": "markdown",
      "source": [
        "##Cleaning the Human Development Index (HDI) dataset"
      ],
      "metadata": {
        "id": "hrd6WhwqEF5u"
      }
    },
    {
      "cell_type": "code",
      "execution_count": 91,
      "metadata": {
        "colab": {
          "base_uri": "https://localhost:8080/"
        },
        "id": "ZaucHLuXRLDM",
        "outputId": "6b05238a-909d-4fc3-c429-dd5b79df7d53"
      },
      "outputs": [
        {
          "output_type": "stream",
          "name": "stdout",
          "text": [
            "Index(['HDI Rank', 'Country', '1990', '1991', '1992', '1993', '1994', '1995',\n",
            "       '1996', '1997', '1998', '1999', '2000', '2001', '2002', '2003', '2004',\n",
            "       '2005', '2006', '2007', '2008', '2009', '2010', '2011', '2012', '2013',\n",
            "       '2014', '2015', '2016', '2017', '2018', '2019'],\n",
            "      dtype='object')\n",
            "\n",
            "\n",
            "Data for year 2015:\n",
            "               HDI\n",
            "Country           \n",
            "Afghanistan    0.5\n",
            "Albania      0.788\n",
            "Algeria       0.74\n",
            "Andorra      0.862\n",
            "Angola       0.572\n",
            "\n",
            "\n",
            "Data for year 2016:\n",
            "               HDI\n",
            "Country           \n",
            "Afghanistan  0.502\n",
            "Albania      0.788\n",
            "Algeria      0.743\n",
            "Andorra      0.866\n",
            "Angola       0.578\n",
            "\n",
            "\n",
            "Data for year 2017:\n",
            "               HDI\n",
            "Country           \n",
            "Afghanistan  0.506\n",
            "Albania      0.790\n",
            "Algeria      0.745\n",
            "Andorra      0.863\n",
            "Angola       0.582\n",
            "\n",
            "\n",
            "Data for year 2018:\n",
            "               HDI\n",
            "Country           \n",
            "Afghanistan  0.509\n",
            "Albania      0.792\n",
            "Algeria      0.746\n",
            "Andorra      0.867\n",
            "Angola       0.582\n",
            "\n",
            "\n",
            "Data for year 2019:\n",
            "               HDI\n",
            "Country           \n",
            "Afghanistan  0.511\n",
            "Albania      0.795\n",
            "Algeria      0.748\n",
            "Andorra      0.868\n",
            "Angola       0.581\n",
            "\n",
            "\n"
          ]
        }
      ],
      "source": [
        "# Cleaning Human Development Index (HDI) dataset\n",
        "HDI = pd.read_csv(\"/content/drive/MyDrive/SC1015 Mini Project/datasets/human development index.csv\")\n",
        "print(HDI.columns)\n",
        "print(\"\\n\")\n",
        "\n",
        "# Keep only the columns you want (in this case, only 'Country' and 'year')\n",
        "HDI = HDI[['Country', '2015','2016', '2017', '2018', '2019']]\n",
        "\n",
        "# Create dataframes for each year of data\n",
        "HDI_2015 = HDI[['Country', '2015']]\n",
        "HDI_2015 = HDI_2015.set_index('Country').rename(columns={'2015': 'HDI'})\n",
        "HDI_2015 = pd.concat([HDI_2015], axis=1).sort_values(by='Country', ascending=True)\n",
        "\n",
        "HDI_2016 = HDI[['Country', '2016']]\n",
        "HDI_2016 = HDI_2016.set_index('Country').rename(columns={'2016': 'HDI'})\n",
        "HDI_2016 = pd.concat([HDI_2016], axis=1).sort_values(by='Country', ascending=True)\n",
        "\n",
        "HDI_2017 = HDI[['Country', '2017']]\n",
        "HDI_2017 = HDI_2017.set_index('Country').rename(columns={'2017': 'HDI'})\n",
        "HDI_2017 = pd.concat([HDI_2017], axis=1).sort_values(by='Country', ascending=True)\n",
        "\n",
        "HDI_2018 = HDI[['Country', '2018']]\n",
        "HDI_2018 = HDI_2018.set_index('Country').rename(columns={'2018': 'HDI'})\n",
        "HDI_2018 = pd.concat([HDI_2018], axis=1).sort_values(by='Country', ascending=True)\n",
        "\n",
        "HDI_2019 = HDI[['Country', '2019']]\n",
        "HDI_2019 = HDI_2019.set_index('Country').rename(columns={'2019': 'HDI'})\n",
        "HDI_2019 = pd.concat([HDI_2019], axis=1).sort_values(by='Country', ascending=True)\n",
        "\n",
        "\n",
        "# For loop to print out data from 2015-2019\n",
        "for year in range(2015, 2020):\n",
        "\n",
        "    print(f'Data for year {year}:')\n",
        "    print(locals()[f'HDI_{year}'].head())\n",
        "    print('\\n')\n",
        "\n"
      ]
    },
    {
      "cell_type": "markdown",
      "source": [
        "__After filtering for data between 2015 - 2019, our group wants to also make sure that the filtered data contains the same country names across the three datasets. Hence, we decided to use the 'Country Name' column from the Happiness Index Dataset as the benchmark.__"
      ],
      "metadata": {
        "id": "Ud0GwQf2E8q2"
      }
    },
    {
      "cell_type": "code",
      "source": [
        "country_benchmark = sorted_2015.sort_values(by='Country', ascending=True)\n",
        "country_benchmark = country_benchmark['Country']\n",
        "\n",
        "# Happiness Index\n",
        "HI_2015 = sorted_2015[sorted_2015.index.isin(country_benchmark)]\n",
        "HI_2016 = sorted_2016[sorted_2016.index.isin(country_benchmark)]\n",
        "HI_2017 = sorted_2017[sorted_2017.index.isin(country_benchmark)]\n",
        "HI_2018 = sorted_2018[sorted_2018.index.isin(country_benchmark)]\n",
        "HI_2019 = sorted_2019[sorted_2019.index.isin(country_benchmark)]\n",
        "\n",
        "# GDP\n",
        "GDP_2015 = data_2015[data_2015.index.isin(country_benchmark)]\n",
        "GDP_2016 = data_2016[data_2016.index.isin(country_benchmark)]\n",
        "GDP_2017 = data_2017[data_2017.index.isin(country_benchmark)]\n",
        "GDP_2018 = data_2018[data_2018.index.isin(country_benchmark)]\n",
        "GDP_2019 = data_2019[data_2019.index.isin(country_benchmark)]\n",
        "\n",
        "# HDI\n",
        "HDI_2015 = HDI_2015[HDI_2015.index.isin(country_benchmark)]\n",
        "HDI_2016 = HDI_2016[HDI_2016.index.isin(country_benchmark)]\n",
        "HDI_2017 = HDI_2017[HDI_2017.index.isin(country_benchmark)]\n",
        "HDI_2018 = HDI_2018[HDI_2018.index.isin(country_benchmark)]\n",
        "HDI_2019 = HDI_2019[HDI_2019.index.isin(country_benchmark)]\n"
      ],
      "metadata": {
        "id": "H_yI8GrZE60e"
      },
      "execution_count": 102,
      "outputs": []
    },
    {
      "cell_type": "markdown",
      "source": [
        "## EDA (Exploratory Data Analysis)"
      ],
      "metadata": {
        "id": "jpHeQ2yLW-tu"
      }
    },
    {
      "cell_type": "markdown",
      "source": [
        "__The datasets for Happiness Index, GDP and HDI have been cleaned and are now ready to be used for EDA (Exploratory data analysis).__"
      ],
      "metadata": {
        "id": "iBHUCExFWszv"
      }
    }
  ],
  "metadata": {
    "colab": {
      "provenance": []
    },
    "kernelspec": {
      "display_name": "Python 3",
      "name": "python3"
    },
    "language_info": {
      "name": "python"
    }
  },
  "nbformat": 4,
  "nbformat_minor": 0
}