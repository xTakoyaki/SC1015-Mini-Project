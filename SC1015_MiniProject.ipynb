{
 "cells": [
  {
   "cell_type": "markdown",
   "id": "568535ed",
   "metadata": {},
   "source": [
    "# Problem Statement: How does GDP affect the standard of living?\n",
    "***"
   ]
  },
  {
   "cell_type": "markdown",
   "id": "b8281662",
   "metadata": {},
   "source": [
    "## Essential Libraries\n"
   ]
  },
  {
   "cell_type": "markdown",
   "id": "4401602d",
   "metadata": {},
   "source": [
    "These are the libraries required to solve our problem statement\n",
    "> pandas: A powerful library for data manipulation and analysis. <br>\n",
    "> numpy: A library for working with arrays, linear algebra, and other mathematical operations. <br>\n",
    "> matplotlib: A library for creating static, animated, and interactive visualizations. <br>\n",
    "> seaborn: A statistical data visualization library based on Matplotlib. <br>\n",
    "> scikit-learn: A library for machine learning in Python, including various models, preprocessing tools, and evaluation metrics."
   ]
  },
  {
   "cell_type": "code",
   "execution_count": 13,
   "id": "d29fb62f",
   "metadata": {},
   "outputs": [],
   "source": [
    "import pandas as pd\n",
    "import numpy as np\n",
    "import matplotlib.pyplot as plt\n",
    "import seaborn as sns\n",
    "from collections import Counter\n",
    "from sklearn.model_selection import train_test_split, cross_val_score\n",
    "from sklearn.linear_model import LinearRegression\n",
    "from sklearn.metrics import mean_squared_error, r2_score"
   ]
  },
  {
   "cell_type": "markdown",
   "id": "1b943acc",
   "metadata": {},
   "source": [
    "## Cleaning the Happiness Index Datasets"
   ]
  },
  {
   "cell_type": "code",
   "execution_count": 19,
   "id": "b1c2f38a",
   "metadata": {},
   "outputs": [
    {
     "name": "stdout",
     "output_type": "stream",
     "text": [
      "Index(['Country', 'Region', 'Happiness Rank', 'Happiness Score',\n",
      "       'Standard Error', 'Economy (GDP per Capita)', 'Family',\n",
      "       'Health (Life Expectancy)', 'Freedom', 'Trust (Government Corruption)',\n",
      "       'Generosity', 'Dystopia Residual'],\n",
      "      dtype='object')\n",
      "Index(['Country', 'Region', 'Happiness Rank', 'Happiness Score',\n",
      "       'Lower Confidence Interval', 'Upper Confidence Interval',\n",
      "       'Economy (GDP per Capita)', 'Family', 'Health (Life Expectancy)',\n",
      "       'Freedom', 'Trust (Government Corruption)', 'Generosity',\n",
      "       'Dystopia Residual'],\n",
      "      dtype='object')\n",
      "Index(['Country', 'Happiness.Rank', 'Happiness.Score', 'Whisker.high',\n",
      "       'Whisker.low', 'Economy..GDP.per.Capita.', 'Family',\n",
      "       'Health..Life.Expectancy.', 'Freedom', 'Generosity',\n",
      "       'Trust..Government.Corruption.', 'Dystopia.Residual'],\n",
      "      dtype='object')\n",
      "Index(['Overall rank', 'Country or region', 'Score', 'GDP per capita',\n",
      "       'Social support', 'Healthy life expectancy',\n",
      "       'Freedom to make life choices', 'Generosity',\n",
      "       'Perceptions of corruption'],\n",
      "      dtype='object')\n",
      "Index(['Overall rank', 'Country or region', 'Score', 'GDP per capita',\n",
      "       'Social support', 'Healthy life expectancy',\n",
      "       'Freedom to make life choices', 'Generosity',\n",
      "       'Perceptions of corruption'],\n",
      "      dtype='object')\n"
     ]
    }
   ],
   "source": [
    "# Read the CSV files into DataFrames\n",
    "happiness_df2015 = pd.read_csv(\"datasets/2015_happinessindex.csv\")\n",
    "happiness_df2016 = pd.read_csv(\"datasets/2016_happinessindex.csv\")\n",
    "happiness_df2017 = pd.read_csv(\"datasets/2017_happinessindex.csv\")\n",
    "happiness_df2018 = pd.read_csv(\"datasets/2018_happinessindex.csv\")\n",
    "happiness_df2019 = pd.read_csv(\"datasets/2019_happinessindex.csv\")\n",
    "\n",
    "print(happiness_df2015.columns)\n",
    "print(happiness_df2016.columns)\n",
    "print(happiness_df2017.columns)\n",
    "print(happiness_df2018.columns)\n",
    "print(happiness_df2019.columns)\n"
   ]
  },
  {
   "cell_type": "code",
   "execution_count": null,
   "id": "7c4045ee",
   "metadata": {},
   "outputs": [],
   "source": []
  }
 ],
 "metadata": {
  "kernelspec": {
   "display_name": "Python 3 (ipykernel)",
   "language": "python",
   "name": "python3"
  },
  "language_info": {
   "codemirror_mode": {
    "name": "ipython",
    "version": 3
   },
   "file_extension": ".py",
   "mimetype": "text/x-python",
   "name": "python",
   "nbconvert_exporter": "python",
   "pygments_lexer": "ipython3",
   "version": "3.9.13"
  }
 },
 "nbformat": 4,
 "nbformat_minor": 5
}
