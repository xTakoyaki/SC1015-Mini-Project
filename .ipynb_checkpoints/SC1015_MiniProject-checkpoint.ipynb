{
 "cells": [
  {
   "cell_type": "markdown",
   "id": "568535ed",
   "metadata": {},
   "source": [
    "# Problem Statement: How does GDP affect the standard of living?\n",
    "***"
   ]
  },
  {
   "cell_type": "markdown",
   "id": "b8281662",
   "metadata": {},
   "source": [
    "## Essential Libraries\n"
   ]
  },
  {
   "cell_type": "markdown",
   "id": "4401602d",
   "metadata": {},
   "source": [
    "These are the libraries required to solve our problem statement\n",
    "> pandas: A powerful library for data manipulation and analysis. <br>\n",
    "> numpy: A library for working with arrays, linear algebra, and other mathematical operations. <br>\n",
    "> matplotlib: A library for creating static, animated, and interactive visualizations. <br>\n",
    "> seaborn: A statistical data visualization library based on Matplotlib. <br>\n",
    "> scikit-learn: A library for machine learning in Python, including various models, preprocessing tools, and evaluation metrics."
   ]
  },
  {
   "cell_type": "code",
   "execution_count": null,
   "id": "d29fb62f",
   "metadata": {},
   "outputs": [],
   "source": []
  }
 ],
 "metadata": {
  "kernelspec": {
   "display_name": "Python 3 (ipykernel)",
   "language": "python",
   "name": "python3"
  },
  "language_info": {
   "codemirror_mode": {
    "name": "ipython",
    "version": 3
   },
   "file_extension": ".py",
   "mimetype": "text/x-python",
   "name": "python",
   "nbconvert_exporter": "python",
   "pygments_lexer": "ipython3",
   "version": "3.9.13"
  }
 },
 "nbformat": 4,
 "nbformat_minor": 5
}
